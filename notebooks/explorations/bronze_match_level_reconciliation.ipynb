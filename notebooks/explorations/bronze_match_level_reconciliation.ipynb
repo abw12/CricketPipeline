{
 "cells": [
  {
   "cell_type": "markdown",
   "id": "612a0c7d",
   "metadata": {},
   "source": [
    "1.Check match-level reconciliation\n",
    "Join bronze.innings to bronze.matches and ensure winner logic is consistent:\n",
    "\n",
    "If matches.result = 'runs', then inning1_runs_total != inning2_runs_total and winner aligns with higher total (consider toss decision for which team batted first).\n",
    "\n",
    "If matches.result = 'wickets', the chasing side won; confirm it’s the side batting second (you can infer batting order by inning_no)."
   ]
  },
  {
   "cell_type": "code",
   "execution_count": 5,
   "id": "6265343e",
   "metadata": {},
   "outputs": [],
   "source": [
    "## one time setup cell \n",
    "from logging import root\n",
    "from pathlib import Path\n",
    "from pyspark.sql import functions as F\n",
    "import sys\n",
    "import os\n",
    "\n",
    "current_dir = os.path.abspath('')\n",
    "# Add parent directory to Python path to allow module imports\n",
    "sys.path.append(os.path.abspath(os.path.join(current_dir,'..','..')))\n",
    "\n",
    "from etl.common import get_spark, load_yml, project_root\n",
    "\n",
    "root = project_root()\n",
    "cfg = load_yml(str(root / \"configs\" / \"bronze_config.yml\"))\n",
    "fmt = cfg[\"storage\"][\"format\"]\n",
    "\n",
    "spark = get_spark(\"bronze-d-mini-challenges\")\n",
    "## read all the processed data stored in the parquet files\n",
    "matches = spark.read.format(fmt).load(str(root / cfg[\"tables\"][\"matches\"][\"target_path\"]))\n",
    "deliveries = spark.read.format(fmt).load(str(root / cfg[\"tables\"][\"deliveries\"][\"target_path\"]))\n",
    "innings = spark.read.format(fmt).load(str(root / cfg[\"tables\"][\"innings\"][\"target_path\"]))"
   ]
  },
  {
   "cell_type": "markdown",
   "id": "44b87696",
   "metadata": {},
   "source": [
    "Challenge 1 — Reconcile winner logic using innings totals\n",
    "\n",
    "Goal: Check that the recorded winner in matches agrees with runs totals from innings.\n",
    "\n",
    "Approach:\n",
    "\n",
    "Build a (match_id → first_batting_team, second_batting_team) map from deliveries.\n",
    "\n",
    "Pivot innings totals to compare inning1 vs inning2 totals.\n",
    "\n",
    "Verify:\n",
    "\n",
    "If result == 'runs': winner is the team with higher total (first or second batting team).\n",
    "\n",
    "If result == 'wickets': winner is second_batting_team (chasing side)."
   ]
  },
  {
   "cell_type": "code",
   "execution_count": 8,
   "id": "4ee9c2e5",
   "metadata": {},
   "outputs": [
    {
     "name": "stdout",
     "output_type": "stream",
     "text": [
      "Runs-result mismatches: 4\n",
      "Wickets-result mismatches: 0\n",
      "+----------------+------+-----------------------+---------------------+-------------+-------------+\n",
      "|match_id        |season|winner                 |winner_by_runs_totals|innings1_runs|innings2_runs|\n",
      "+----------------+------+-----------------------+---------------------+-------------+-------------+\n",
      "|ef4334799a0f7dc3|2011  |Kolkata Knight Riders  |Chennai Super Kings  |114          |61           |\n",
      "|002e76ed7ecda0fe|2016  |Rising Pune Supergiants|Sunrisers Hyderabad  |118          |94           |\n",
      "|aa68c59a08b2befa|2016  |Rising Pune Supergiants|Delhi Daredevils     |121          |76           |\n",
      "|f8a03c0a73c274b2|2009  |Kolkata Knight Riders  |Kings XI Punjab      |158          |79           |\n",
      "+----------------+------+-----------------------+---------------------+-------------+-------------+\n",
      "\n"
     ]
    }
   ],
   "source": [
    "from pandas import pivot\n",
    "\n",
    "# 1) Who batted first/second, inferred from deliveries\n",
    "bat_order = (deliveries\n",
    "             .groupBy(\"match_id\",\"inning_no\",\"batting_team\")\n",
    "             .count()\n",
    "             .groupBy(\"match_id\")\n",
    "             .pivot(\"inning_no\")\n",
    "             .agg(F.first(\"batting_team\"))\n",
    "             .withColumnRenamed(\"1\",\"first_batting_team\")\n",
    "             .withColumnRenamed(\"2\",\"second_batting_team\"))\n",
    "# 2) Totals per inning\n",
    "inng_pivot =(innings\n",
    "             .groupBy(\"match_id\")\n",
    "             .pivot(\"inning_no\")\n",
    "             .agg(F.first(\"runs_total\").alias(\"runs\"))\n",
    "             .withColumnRenamed(\"1\",\"innings1_runs\")\n",
    "             .withColumnRenamed(\"2\",\"innings2_runs\"))\n",
    "\n",
    "# 3) Join with matches\n",
    "m = (matches\n",
    "     .select(\"match_id\",\"winner\",\"result\",\"season\",\"team1\",\"team2\")\n",
    "     .join(bat_order, \"match_id\",\"left\")\n",
    "     .join(inng_pivot,\"match_id\",\"left\"))\n",
    "\n",
    "# 4) Compute “winner by totals” for runs case\n",
    "m_chk = (m\n",
    "    .withColumn(\"winner_by_runs_totals\",\n",
    "        F.when(F.col(\"innings1_runs\") > F.col(\"innings2_runs\"), F.col(\"first_batting_team\"))\n",
    "         .when(F.col(\"innings2_runs\") > F.col(\"innings1_runs\"), F.col(\"second_batting_team\"))\n",
    "         .otherwise(F.lit(None)))\n",
    "    .withColumn(\"winner_expected_if_wickets\", F.col(\"second_batting_team\")))\n",
    "\n",
    "#Violations\n",
    "viol_runs = (m_chk\n",
    "             .filter(F.col(\"result\") == \"runs\")\n",
    "             .filter(F.col(\"winner\") != F.col(\"winner_by_runs_totals\")))\n",
    "\n",
    "viol_wkts = (m_chk\n",
    "             .filter(F.col(\"result\") == \"wickets\")\n",
    "             .filter(F.col(\"winner\") != F.col(\"winner_expected_if_wickets\")))\n",
    "\n",
    "print(\"Runs-result mismatches:\", viol_runs.count())\n",
    "print(\"Wickets-result mismatches:\", viol_wkts.count())\n",
    "\n",
    "# Peek a few if any\n",
    "if viol_runs.count() > 0:\n",
    "    viol_runs.select(\"match_id\",\"season\",\"winner\",\"winner_by_runs_totals\",\"innings1_runs\",\"innings2_runs\").show(5, False)\n",
    "if viol_wkts.count() > 0:\n",
    "    viol_wkts.select(\"match_id\",\"season\",\"winner\",\"second_batting_team\").show(5, False)\n"
   ]
  },
  {
   "cell_type": "markdown",
   "id": "2f708a15",
   "metadata": {},
   "source": [
    "Challenge 2 — Find shortened innings (balls_legal < 120)\n",
    "\n",
    "Goal: Spot rain-shortened/all-out innings.\n",
    "\n",
    "Approach: balls_legal already computed in Bronze innings; 20 overs × 6 = 120 legal balls."
   ]
  },
  {
   "cell_type": "code",
   "execution_count": 9,
   "id": "ce450aee",
   "metadata": {},
   "outputs": [
    {
     "name": "stdout",
     "output_type": "stream",
     "text": [
      "Shortened innings count: 835\n",
      "Shortened innings by season:\n",
      "+------+-----+\n",
      "|season|count|\n",
      "+------+-----+\n",
      "|NULL  |136  |\n",
      "|2009  |42   |\n",
      "|2011  |53   |\n",
      "|2012  |43   |\n",
      "|2013  |57   |\n",
      "|2014  |49   |\n",
      "|2015  |36   |\n",
      "|2016  |46   |\n",
      "|2017  |45   |\n",
      "|2018  |46   |\n",
      "|2019  |47   |\n",
      "|2021  |41   |\n",
      "|2022  |47   |\n",
      "|2023  |39   |\n",
      "|2024  |51   |\n",
      "|2025  |57   |\n",
      "+------+-----+\n",
      "\n",
      "+----------------+------+---------+---------------------+-----------+----------+-------+\n",
      "|match_id        |season|inning_no|batting_team         |balls_legal|runs_total|wickets|\n",
      "+----------------+------+---------+---------------------+-----------+----------+-------+\n",
      "|fa7b050f710c57d6|NULL  |4        |Delhi Capitals       |2          |3         |0      |\n",
      "|03aeb71cad4091e0|2019  |4        |Mumbai Indians       |3          |9         |0      |\n",
      "|f68fbe5d1eee9c7f|2015  |4        |Rajasthan Royals     |3          |6         |2      |\n",
      "|0f9012e292c1bc2d|NULL  |3        |Sunrisers Hyderabad  |3          |2         |2      |\n",
      "|fa7b050f710c57d6|NULL  |3        |Kings XI Punjab      |3          |2         |2      |\n",
      "|7f73582d0affbf27|2025  |4        |Delhi Capitals       |4          |13        |0      |\n",
      "|03aeb71cad4091e0|2019  |3        |Sunrisers Hyderabad  |4          |8         |2      |\n",
      "|755403f168d4e0fe|2009  |4        |Rajasthan Royals     |4          |18        |0      |\n",
      "|eef1376b596f046c|NULL  |6        |Kings XI Punjab      |4          |15        |0      |\n",
      "|0f9012e292c1bc2d|NULL  |4        |Kolkata Knight Riders|4          |3         |0      |\n",
      "+----------------+------+---------+---------------------+-----------+----------+-------+\n",
      "only showing top 10 rows\n",
      "\n"
     ]
    }
   ],
   "source": [
    "short = innings.filter(F.col(\"balls_legal\") < 120)\n",
    "\n",
    "print(\"Shortened innings count:\", short.count())\n",
    "print(\"Shortened innings by season:\")\n",
    "(short.groupBy(\"season\")\n",
    "      .count()\n",
    "      .orderBy(\"season\")\n",
    "      .show(50, truncate=False))\n",
    "\n",
    "# Optional: top 10 most shortened innings\n",
    "(short\n",
    " .select(\"match_id\",\"season\",\"inning_no\",\"batting_team\",\"balls_legal\",\"runs_total\",\"wickets\")\n",
    " .orderBy(\"balls_legal\")\n",
    " .show(10, truncate=False))"
   ]
  },
  {
   "cell_type": "markdown",
   "id": "a97dc772",
   "metadata": {},
   "source": [
    "Challenge 3 — (Optional) Derive 1st/2nd batting teams and preview\n",
    "\n",
    "Goal: Derive and view batting order (useful for later Silver enrichment).\n",
    "\n",
    "Approach: Same bat_order as in Challenge 1; just preview cleanly."
   ]
  },
  {
   "cell_type": "code",
   "execution_count": null,
   "id": "8a3d3998",
   "metadata": {},
   "outputs": [
    {
     "name": "stdout",
     "output_type": "stream",
     "text": [
      "Batting order sample:\n",
      "+----------------+---------------------------+-----------------------+\n",
      "|match_id        |first_batting_team         |second_batting_team    |\n",
      "+----------------+---------------------------+-----------------------+\n",
      "|000d25bcc589a749|Royal Challengers Bangalore|Mumbai Indians         |\n",
      "|002e76ed7ecda0fe|Sunrisers Hyderabad        |Rising Pune Supergiants|\n",
      "|00649ef73b4016da|Delhi Daredevils           |Kolkata Knight Riders  |\n",
      "|00727a2982bdca97|Rajasthan Royals           |Mumbai Indians         |\n",
      "|0082541530f1e37f|Chennai Super Kings        |Kolkata Knight Riders  |\n",
      "|0093f24d081b16f1|Kings XI Punjab            |Chennai Super Kings    |\n",
      "|00f5af9ac185847d|Kolkata Knight Riders      |Kings XI Punjab        |\n",
      "|017c30ad4c4c432d|Royal Challengers Bangalore|Kolkata Knight Riders  |\n",
      "|019d0f408f294b93|Mumbai Indians             |Gujarat Titans         |\n",
      "|01a32c4921804c4d|Delhi Capitals             |Lucknow Super Giants   |\n",
      "+----------------+---------------------------+-----------------------+\n",
      "only showing top 10 rows\n",
      "\n"
     ]
    }
   ],
   "source": [
    "print(\"Batting order sample:\")\n",
    "(bat_order\n",
    " .select(\"match_id\",\"first_batting_team\",\"second_batting_team\")\n",
    " .orderBy(\"match_id\")\n",
    " .show(10, truncate=False))\n",
    "#If you want these columns in a table, \n",
    "#you’ll add them later in Silver as a normalized enrichment."
   ]
  },
  {
   "cell_type": "markdown",
   "id": "c70550b4",
   "metadata": {},
   "source": [
    "Tiny DQ script — Reconcile innings vs deliveries (facts = rollups)\n",
    "\n",
    "Goal: For each (match_id, inning_no), confirm that:\n",
    "\n",
    "sum(deliveries.runs_total) equals innings.runs_total\n",
    "\n",
    "sum(deliveries.wicket_fell) equals innings.wickets\n",
    "\n",
    "Approach: Aggregate deliveries at (match, inning) and join with innings. Fail if any mismatch."
   ]
  },
  {
   "cell_type": "code",
   "execution_count": 11,
   "id": "2ec44e3f",
   "metadata": {},
   "outputs": [
    {
     "name": "stdout",
     "output_type": "stream",
     "text": [
      "Runs mismatches: 0, Wickets mismatches: 0\n"
     ]
    }
   ],
   "source": [
    "# Aggregate facts from deliveries\n",
    "facts = (deliveries\n",
    "    .groupBy(\"match_id\", \"inning_no\")\n",
    "    .agg(\n",
    "        F.sum(\"runs_total\").cast(\"int\").alias(\"runs_from_deliveries\"),\n",
    "        F.sum(F.col(\"wicket_fell\").cast(\"int\")).cast(\"int\").alias(\"wickets_from_deliveries\")\n",
    "    ))\n",
    "\n",
    "# Join with innings rollups\n",
    "recon = (facts\n",
    "    .join(innings.select(\"match_id\",\"inning_no\",\"runs_total\",\"wickets\"), [\"match_id\",\"inning_no\"], \"inner\")\n",
    "    .withColumn(\"runs_match\", F.col(\"runs_from_deliveries\") == F.col(\"runs_total\"))\n",
    "    .withColumn(\"wkts_match\", F.col(\"wickets_from_deliveries\") == F.col(\"wickets\")))\n",
    "\n",
    "# Count mismatches\n",
    "bad_runs = recon.filter(~F.col(\"runs_match\")).count()\n",
    "bad_wkts = recon.filter(~F.col(\"wkts_match\")).count()\n",
    "\n",
    "print(f\"Runs mismatches: {bad_runs}, Wickets mismatches: {bad_wkts}\")\n",
    "\n",
    "# Peek a few problematic rows, if any\n",
    "if bad_runs or bad_wkts:\n",
    "    (recon\n",
    "     .filter((~F.col(\"runs_match\")) | (~F.col(\"wkts_match\")))\n",
    "     .select(\"match_id\",\"inning_no\",\"runs_from_deliveries\",\"runs_total\",\"wickets_from_deliveries\",\"wickets\")\n",
    "     .orderBy(\"match_id\",\"inning_no\")\n",
    "     .show(10, truncate=False))\n",
    "\n",
    "# Hard assertions (turn this into a test if you like)\n",
    "assert bad_runs == 0, \"Innings runs do not match sum of deliveries for some innings\"\n",
    "assert bad_wkts == 0, \"Innings wickets do not match sum of deliveries for some innings\"\n"
   ]
  }
 ],
 "metadata": {
  "kernelspec": {
   "display_name": ".venv",
   "language": "python",
   "name": "python3"
  },
  "language_info": {
   "codemirror_mode": {
    "name": "ipython",
    "version": 3
   },
   "file_extension": ".py",
   "mimetype": "text/x-python",
   "name": "python",
   "nbconvert_exporter": "python",
   "pygments_lexer": "ipython3",
   "version": "3.9.9"
  }
 },
 "nbformat": 4,
 "nbformat_minor": 5
}
