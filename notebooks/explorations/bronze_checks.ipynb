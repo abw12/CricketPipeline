{
 "cells": [
  {
   "cell_type": "markdown",
   "id": "a0b496d6",
   "metadata": {},
   "source": [
    "Practice Cell to explore and validate the Bronze data - Mini Challenges "
   ]
  },
  {
   "cell_type": "code",
   "execution_count": 4,
   "id": "bb82cf8a",
   "metadata": {},
   "outputs": [],
   "source": [
    "from pathlib import Path\n",
    "from pyspark.sql import functions as F\n",
    "import os\n",
    "import sys\n",
    "\n",
    "current_dir = os.path.abspath('')\n",
    "# Add parent directory to Python path to allow module imports\n",
    "sys.path.append(os.path.abspath(os.path.join(current_dir,'..','..')))\n",
    "\n",
    "from etl.common import get_spark, load_yml, project_root\n",
    "\n",
    "root = project_root()\n",
    "cfg = load_yml(str(root / \"configs\" / \"bronze_config.yml\"))\n",
    "fmt = cfg[\"storage\"][\"format\"]\n",
    "\n",
    "spark = get_spark(\"bronze-mini-challenges\")\n",
    "\n",
    "bronze_matches_path = root / cfg[\"tables\"][\"matches\"][\"target_path\"]\n",
    "bronze_deliveries_path = root / cfg[\"tables\"][\"deliveries\"][\"target_path\"]\n",
    "\n",
    "matches = spark.read.format(fmt).load(str(bronze_matches_path))\n",
    "deliveries = spark.read.format(fmt).load(str(bronze_deliveries_path))"
   ]
  },
  {
   "cell_type": "markdown",
   "id": "72096719",
   "metadata": {},
   "source": [
    "Challenge 1 — Deliveries count vs matches\n",
    "\n",
    "Goal: compute deliveries per match and see top matches (useful to spot super overs / anomalies)."
   ]
  },
  {
   "cell_type": "code",
   "execution_count": 6,
   "id": "91ebd1df",
   "metadata": {},
   "outputs": [
    {
     "name": "stdout",
     "output_type": "stream",
     "text": [
      "Top 3 matches by deliveries_count\n",
      "+----------------+----------------+\n",
      "|match_id        |deliveries_count|\n",
      "+----------------+----------------+\n",
      "|eef1376b596f046c|269             |\n",
      "|755403f168d4e0fe|267             |\n",
      "|af039871ce7fb9ae|265             |\n",
      "+----------------+----------------+\n",
      "\n"
     ]
    }
   ],
   "source": [
    "dpm = ( deliveries\n",
    "       .groupBy(\"match_id\")\n",
    "       .count()\n",
    "       .withColumnRenamed(\"count\",\"deliveries_count\")\n",
    "       )\n",
    "print(\"Top 3 matches by deliveries_count\")\n",
    "(dpm.orderBy(F.desc(\"deliveries_count\"))\n",
    " .limit(3)\n",
    " .show(truncate=False))"
   ]
  }
 ],
 "metadata": {
  "kernelspec": {
   "display_name": ".venv",
   "language": "python",
   "name": "python3"
  },
  "language_info": {
   "codemirror_mode": {
    "name": "ipython",
    "version": 3
   },
   "file_extension": ".py",
   "mimetype": "text/x-python",
   "name": "python",
   "nbconvert_exporter": "python",
   "pygments_lexer": "ipython3",
   "version": "3.9.9"
  }
 },
 "nbformat": 4,
 "nbformat_minor": 5
}
